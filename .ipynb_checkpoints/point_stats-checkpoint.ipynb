{
 "cells": [
  {
   "cell_type": "code",
   "execution_count": 1,
   "metadata": {},
   "outputs": [],
   "source": [
    "# run the script below -h will return the instructions on the command line arguments requried to run the script (as shown blow)"
   ]
  },
  {
   "cell_type": "code",
   "execution_count": 2,
   "metadata": {},
   "outputs": [
    {
     "name": "stdout",
     "output_type": "stream",
     "text": [
      "usage: points_stats_singleImage.py [-h] [-i IMAGE] [-n NODATA] [-s SHAPE]\n",
      "                                   [-u UID] [-o CSV]\n",
      "\n",
      "Input a single or multiband raster to extracts the values from the input point\n",
      "shapefile. The script currently outputs a csv file containing the unique\n",
      "identifyer for each point, the value of the raster is returned.\n",
      "\n",
      "optional arguments:\n",
      "  -h, --help            show this help message and exit\n",
      "  -i IMAGE, --image IMAGE\n",
      "                        Input image to extract the stats from\n",
      "  -n NODATA, --nodata NODATA\n",
      "                        define the no data value for the input raster image,\n",
      "                        the default is none (default is None))\n",
      "  -s SHAPE, --shape SHAPE\n",
      "                        shape file contiaing the point files with classes, it\n",
      "                        aslo needs to have a field defined as uid\n",
      "  -u UID, --uid UID     input the column name for the unique id field in the\n",
      "                        shapefile\n",
      "  -o CSV, --csv CSV     name of the output csv file containing the results\n"
     ]
    }
   ],
   "source": [
    "%run points_stats_singleImage.py -h"
   ]
  },
  {
   "cell_type": "code",
   "execution_count": 3,
   "metadata": {},
   "outputs": [],
   "source": [
    "# below are the inputs to extract out the point stats for the various predictor variables "
   ]
  },
  {
   "cell_type": "code",
   "execution_count": 4,
   "metadata": {
    "scrolled": true
   },
   "outputs": [
    {
     "name": "stdout",
     "output_type": "stream",
     "text": [
      "<open DatasetReader name='D:\\limmen\\cvmsre_limmen_mos_m201801201812_abmm3.img band 1 is complete\n",
      "<open DatasetReader name='D:\\limmen\\cvmsre_limmen_mos_m201801201812_abmm3.img band 2 is complete\n",
      "<open DatasetReader name='D:\\limmen\\cvmsre_limmen_mos_m201801201812_abmm3.img band 3 is complete\n",
      "<open DatasetReader name='D:\\limmen\\cvmsre_limmen_mos_m201801201812_abmm3.img band 4 is complete\n",
      "<open DatasetReader name='D:\\limmen\\cvmsre_limmen_mos_m201801201812_abmm3.img band 5 is complete\n",
      "<open DatasetReader name='D:\\limmen\\cvmsre_limmen_mos_m201801201812_abmm3.img band 6 is complete\n",
      "<open DatasetReader name='D:\\limmen\\cvmsre_limmen_mos_m201801201812_abmm3.img band 7 is complete\n",
      "<open DatasetReader name='D:\\limmen\\cvmsre_limmen_mos_m201801201812_abmm3.img band 8 is complete\n",
      "<open DatasetReader name='D:\\limmen\\cvmsre_limmen_mos_m201801201812_abmm3.img band 9 is complete\n",
      "<open DatasetReader name='D:\\limmen\\cvmsre_limmen_mos_m201801201812_abmm3.img band 10 is complete\n",
      "['site', 'class', 'b1', 'site', 'class', 'b10', 'site', 'class', 'b2', 'site', 'class', 'b3', 'site', 'class', 'b4', 'site', 'class', 'b5', 'site', 'class', 'b6', 'site', 'class', 'b7', 'site', 'class', 'b8', 'site', 'class', 'b9']\n"
     ]
    }
   ],
   "source": [
    "%run points_stats_singleImage.py -i D:\\limmen\\cvmsre_limmen_mos_m201801201812_abmm3.img \\\n",
    "        -n 32767 -s D:\\limmen\\Comm4_5.shp -u uid -o s2_ann_point_stats.csv"
   ]
  },
  {
   "cell_type": "code",
   "execution_count": 5,
   "metadata": {},
   "outputs": [
    {
     "name": "stdout",
     "output_type": "stream",
     "text": [
      "<open DatasetReader name='D:\\limmen\\cvmsre_limmen_mos_m201805201809_abmm3.img band 1 is complete\n",
      "<open DatasetReader name='D:\\limmen\\cvmsre_limmen_mos_m201805201809_abmm3.img band 2 is complete\n",
      "<open DatasetReader name='D:\\limmen\\cvmsre_limmen_mos_m201805201809_abmm3.img band 3 is complete\n",
      "<open DatasetReader name='D:\\limmen\\cvmsre_limmen_mos_m201805201809_abmm3.img band 4 is complete\n",
      "<open DatasetReader name='D:\\limmen\\cvmsre_limmen_mos_m201805201809_abmm3.img band 5 is complete\n",
      "<open DatasetReader name='D:\\limmen\\cvmsre_limmen_mos_m201805201809_abmm3.img band 6 is complete\n",
      "<open DatasetReader name='D:\\limmen\\cvmsre_limmen_mos_m201805201809_abmm3.img band 7 is complete\n",
      "<open DatasetReader name='D:\\limmen\\cvmsre_limmen_mos_m201805201809_abmm3.img band 8 is complete\n",
      "<open DatasetReader name='D:\\limmen\\cvmsre_limmen_mos_m201805201809_abmm3.img band 9 is complete\n",
      "<open DatasetReader name='D:\\limmen\\cvmsre_limmen_mos_m201805201809_abmm3.img band 10 is complete\n",
      "['site', 'class', 'b1', 'site', 'class', 'b10', 'site', 'class', 'b2', 'site', 'class', 'b3', 'site', 'class', 'b4', 'site', 'class', 'b5', 'site', 'class', 'b6', 'site', 'class', 'b7', 'site', 'class', 'b8', 'site', 'class', 'b9']\n"
     ]
    }
   ],
   "source": [
    "%run points_stats_singleImage.py -i D:\\limmen\\cvmsre_limmen_mos_m201805201809_abmm3.img \\\n",
    "        -n 32767 -s D:\\limmen\\Comm4_5.shp -u uid -o s2_dry_point_stats.csv"
   ]
  },
  {
   "cell_type": "code",
   "execution_count": 6,
   "metadata": {},
   "outputs": [
    {
     "name": "stdout",
     "output_type": "stream",
     "text": [
      "<open DatasetReader name='D:\\limmen\\dems1sv1_0.img band 1 is complete\n",
      "['site', 'class', 'b1']\n"
     ]
    }
   ],
   "source": [
    "%run points_stats_singleImage.py -i D:\\limmen\\dems1sv1_0.img \\\n",
    "        -n 9999 -s D:\\limmen\\Comm4_5.shp -u uid -o DEM_SS_point_stats.csv"
   ]
  },
  {
   "cell_type": "code",
   "execution_count": 7,
   "metadata": {},
   "outputs": [
    {
     "name": "stdout",
     "output_type": "stream",
     "text": [
      "<open DatasetReader name='D:\\limmen\\cvmsre_nt_m201801201812_h99_mc_cv_m3.img band 1 is complete\n",
      "<open DatasetReader name='D:\\limmen\\cvmsre_nt_m201801201812_h99_mc_cv_m3.img band 2 is complete\n",
      "<open DatasetReader name='D:\\limmen\\cvmsre_nt_m201801201812_h99_mc_cv_m3.img band 3 is complete\n",
      "['site', 'class', 'b1', 'site', 'class', 'b2', 'site', 'class', 'b3']\n"
     ]
    }
   ],
   "source": [
    "%run points_stats_singleImage.py -i D:\\limmen\\cvmsre_nt_m201801201812_h99_mc_cv_m3.img \\\n",
    "        -n 0 -s D:\\limmen\\Comm4_5.shp -u uid -o tree_structure_point_stats.csv"
   ]
  },
  {
   "cell_type": "code",
   "execution_count": 8,
   "metadata": {},
   "outputs": [
    {
     "name": "stdout",
     "output_type": "stream",
     "text": [
      "<open DatasetReader name='D:\\limmen\\lztmre_nt_m201705201709_stcm3_uint8.img band 1 is complete\n",
      "['site', 'class', 'b1']\n"
     ]
    }
   ],
   "source": [
    "%run points_stats_singleImage.py -i D:\\limmen\\lztmre_nt_m201705201709_stcm3_uint8.img \\\n",
    "        -n 0 -s D:\\limmen\\Comm4_5.shp -u uid -o structure_formation_class.csv"
   ]
  },
  {
   "cell_type": "code",
   "execution_count": null,
   "metadata": {},
   "outputs": [],
   "source": []
  }
 ],
 "metadata": {
  "kernelspec": {
   "display_name": "Python 3",
   "language": "python",
   "name": "python3"
  },
  "language_info": {
   "codemirror_mode": {
    "name": "ipython",
    "version": 3
   },
   "file_extension": ".py",
   "mimetype": "text/x-python",
   "name": "python",
   "nbconvert_exporter": "python",
   "pygments_lexer": "ipython3",
   "version": "3.7.7"
  }
 },
 "nbformat": 4,
 "nbformat_minor": 2
}
