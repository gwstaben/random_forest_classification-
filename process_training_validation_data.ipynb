{
 "cells": [
  {
   "cell_type": "markdown",
   "metadata": {},
   "source": [
    "# Step 1. Import modules\n"
   ]
  },
  {
   "cell_type": "code",
   "execution_count": 1,
   "metadata": {},
   "outputs": [],
   "source": [
    "import pandas as pd\n",
    "import numpy as np\n",
    "import matplotlib.pyplot as plt\n",
    "pd.set_option('chained_assignment',None)"
   ]
  },
  {
   "cell_type": "markdown",
   "metadata": {},
   "source": [
    "\n",
    "Step 2. Read in the zonal stats results of annual image\n"
   ]
  },
  {
   "cell_type": "code",
   "execution_count": 2,
   "metadata": {},
   "outputs": [
    {
     "name": "stdout",
     "output_type": "stream",
     "text": [
      "['Unnamed: 0', 'site', 'class', 'b1', 'b2', 'b3', 'b4', 'b5', 'b6', 'b7', 'b8', 'b9', 'b10']\n",
      "(3989, 13)\n"
     ]
    }
   ],
   "source": [
    "annualdataframe = pd.read_csv(\"s2_ann_point_stats.csv\", header=0)\n",
    "print (list(annualdataframe))\n",
    "print (annualdataframe.shape)"
   ]
  },
  {
   "cell_type": "markdown",
   "metadata": {},
   "source": [
    "\n",
    "Step 3. Select out each band value which represents the single pixel value, then rename the column of df by createing a new dataframe 'a'\n"
   ]
  },
  {
   "cell_type": "code",
   "execution_count": 3,
   "metadata": {},
   "outputs": [
    {
     "name": "stdout",
     "output_type": "stream",
     "text": [
      "['site', 'class', 'psB2', 'psB3', 'psB4', 'psB5', 'psB6', 'psB7', 'psB8', 'psB9', 'psB10']\n",
      "(3989, 11)\n"
     ]
    }
   ],
   "source": [
    "# create a new dataframe 'a', replace the column name\n",
    "# print out the column content of dataframe 'a'\n",
    "\n",
    "aa = annualdataframe[['site', 'class', 'b2', 'b3', 'b4', 'b5', 'b6', 'b7', 'b8', 'b9', 'b10']]\n",
    "aa.columns = ['site', 'class', 'psB2', 'psB3', 'psB4', 'psB5', 'psB6', 'psB7', 'psB8', 'psB9', 'psB10']\n",
    "print (list (aa))\n",
    "print (aa.shape)"
   ]
  },
  {
   "cell_type": "code",
   "execution_count": 4,
   "metadata": {},
   "outputs": [],
   "source": [
    "#It uses B02, B03, B04, B08, B05, B06, B07, B08A, B11, B12 from the original Sentinel-2 band names\n",
    "#B02 = Blue, B03 = Green, B04 = Red, B08 = NIR, B05 = Vegetation Red Edge 01, B06 = Vegetation Red Edge 02, \n",
    "#B07 = Vegetation Red Edge 03, B08A = Narrow NIR, B11 = SWIR 1 (Short), B12 = SWIR 2 (Long). \n",
    "#Mind that only B02, B03, B04, B08 have the resolution of 10m, and the rest are 20m bands"
   ]
  },
  {
   "cell_type": "markdown",
   "metadata": {},
   "source": [
    "\n",
    "Step 4. Define indices\n"
   ]
  },
  {
   "cell_type": "code",
   "execution_count": 5,
   "metadata": {},
   "outputs": [
    {
     "name": "stdout",
     "output_type": "stream",
     "text": [
      "['site', 'class', 'psB2', 'psB3', 'psB4', 'psB5', 'psB6', 'psB7', 'psB8', 'psB9', 'psB10', 'ratio32f', 'ratio42f', 'ratio43f', 'ratio52f', 'ratio53f', 'ratio54f', 'ratio62f', 'ratio63f', 'ratio64f', 'ratio65f', 'ratio72f', 'ratio73f', 'ratio74f', 'ratio75f', 'ratio76f', 'ratio82f', 'ratio83f', 'ratio84f', 'ratio85f', 'ratio86f', 'ratio87f', 'ratio92f', 'ratio93f', 'ratio94f', 'ratio95f', 'ratio96f', 'ratio97f', 'ratio98f', 'ratio102f', 'ratio103f', 'ratio104f', 'ratio105f', 'ratio106f', 'ratio107f', 'ratio108f', 'ratio109f', 'ratio32', 'ratio42', 'ratio43', 'ratio52', 'ratio53', 'ratio54', 'ratio62', 'ratio63', 'ratio64', 'ratio65', 'ratio72', 'ratio73', 'ratio74', 'ratio75', 'ratio76', 'ratio82', 'ratio83', 'ratio84', 'ratio85', 'ratio86', 'ratio87', 'ratio92', 'ratio93', 'ratio94', 'ratio95', 'ratio96', 'ratio97', 'ratio98', 'ratio102', 'ratio103', 'ratio104', 'ratio105', 'ratio106', 'ratio107', 'ratio108', 'ratio109', 'GSAVIf', 'GSAVI', 'GNDVIf', 'GNDVI', 'CVIf', 'CVI', 'NDGIf', 'NDGI', 'RIf', 'RI', 'NBRf', 'NBR', 'NDIIf', 'NDII', 'GDVIf', 'GDVI', 'DVIf', 'DVI', 'SAVIf', 'SAVI', 'NDVIf', 'NDVI', 'MSRf', 'MSR', 'MSAVIf', 'MSAVI', 'CIgreenf', 'CIgreen', 'NDRE1f', 'NDRE1', 'NDRE2f', 'NDRE2', 'CIrededgef', 'CIrededge']\n",
      "(3986, 117)\n"
     ]
    }
   ],
   "source": [
    "jDd = aa.replace([np.inf, -np.inf], np.nan).copy()\n",
    "a = jDd.dropna()\n",
    "\n",
    "# or use np.seterr(divide='ignore', invalid='ignore') to ignore the warning. Will need to trail this in the next version.\n",
    "\n",
    "# converts interger stage code dbg surface reflectance data for landsat 5 & 7 \n",
    "# to floating point for analysis of the vegetation index\n",
    "\n",
    "green = ((a['psB2'].astype('int16')*0.0001)+0.0)\n",
    "red = ((a['psB3'].astype('int16')*0.0001)+0.0)\n",
    "nir = ((a['psB4'].astype('int16')*0.0001)+0.0)\n",
    "rededge1 = ((a['psB5'].astype('int16')*0.0001)+0.0)\n",
    "rededge2 = ((a['psB6'].astype('int16')*0.0001)+0.0)\n",
    "rededge3 = ((a['psB7'].astype('int16')*0.0001)+0.0)\n",
    "narrownir = ((a['psB8'].astype('int16')*0.0001)+0.0)\n",
    "swir1 = ((a['psB9'].astype('int16')*0.0001)+0.0)\n",
    "swir2 = ((a['psB10'].astype('int16')*0.0001)+0.0)\n",
    "\n",
    "# calculate the band ratios\n",
    "\n",
    "a['ratio32f'] = (a['psB3'] / a['psB2'])\n",
    "\n",
    "a['ratio42f'] = (a['psB4'] / a['psB2'])\n",
    "a['ratio43f'] = (a['psB4'] / a['psB3'])\n",
    "\n",
    "a['ratio52f'] = (a['psB5'] / a['psB2'])\n",
    "a['ratio53f'] = (a['psB5'] / a['psB3'])\n",
    "a['ratio54f'] = (a['psB5'] / a['psB4'])\n",
    "\n",
    "a['ratio62f'] = (a['psB6'] / a['psB2'])\n",
    "a['ratio63f'] = (a['psB6'] / a['psB3'])\n",
    "a['ratio64f'] = (a['psB6'] / a['psB4'])\n",
    "a['ratio65f'] = (a['psB6'] / a['psB5'])\n",
    "\n",
    "a['ratio72f'] = (a['psB7'] / a['psB2'])\n",
    "a['ratio73f'] = (a['psB7'] / a['psB3'])\n",
    "a['ratio74f'] = (a['psB7'] / a['psB4'])\n",
    "a['ratio75f'] = (a['psB7'] / a['psB5'])\n",
    "a['ratio76f'] = (a['psB7'] / a['psB6'])\n",
    "\n",
    "a['ratio82f'] = (a['psB8'] / a['psB2'])\n",
    "a['ratio83f'] = (a['psB8'] / a['psB3'])\n",
    "a['ratio84f'] = (a['psB8'] / a['psB4'])\n",
    "a['ratio85f'] = (a['psB8'] / a['psB5'])\n",
    "a['ratio86f'] = (a['psB8'] / a['psB6'])\n",
    "a['ratio87f'] = (a['psB8'] / a['psB7'])\n",
    "\n",
    "a['ratio92f'] = (a['psB9'] / a['psB2'])\n",
    "a['ratio93f'] = (a['psB9'] / a['psB3'])\n",
    "a['ratio94f'] = (a['psB9'] / a['psB4'])\n",
    "a['ratio95f'] = (a['psB9'] / a['psB5'])\n",
    "a['ratio96f'] = (a['psB9'] / a['psB6'])\n",
    "a['ratio97f'] = (a['psB9'] / a['psB7'])\n",
    "a['ratio98f'] = (a['psB9'] / a['psB8'])\n",
    "\n",
    "a['ratio102f'] = (a['psB10'] / a['psB2'])\n",
    "a['ratio103f'] = (a['psB10'] / a['psB3'])\n",
    "a['ratio104f'] = (a['psB10'] / a['psB4'])\n",
    "a['ratio105f'] = (a['psB10'] / a['psB5'])\n",
    "a['ratio106f'] = (a['psB10'] / a['psB6'])\n",
    "a['ratio107f'] = (a['psB10'] / a['psB7'])\n",
    "a['ratio108f'] = (a['psB10'] / a['psB8'])\n",
    "a['ratio109f'] = (a['psB10'] / a['psB9'])\n",
    "\n",
    "# calculate the band ratios and convert them to int32 bit at 7 decimal places\n",
    "\n",
    "a['ratio32'] = np.int32(np.around(a['ratio32f'] * 10 ** 7))\n",
    "\n",
    "a['ratio42'] = np.int32(np.around(a['ratio42f'] * 10 ** 7))\n",
    "a['ratio43'] = np.int32(np.around(a['ratio43f'] * 10 ** 7))\n",
    "\n",
    "a['ratio52'] = np.int32(np.around(a['ratio52f'] * 10 ** 7))\n",
    "a['ratio53'] = np.int32(np.around(a['ratio53f'] * 10 ** 7))\n",
    "a['ratio54'] = np.int32(np.around(a['ratio54f'] * 10 ** 7))\n",
    "\n",
    "a['ratio62'] = np.int32(np.around(a['ratio62f'] * 10 ** 7))\n",
    "a['ratio63'] = np.int32(np.around(a['ratio63f'] * 10 ** 7))\n",
    "a['ratio64'] = np.int32(np.around(a['ratio64f'] * 10 ** 7))\n",
    "a['ratio65'] = np.int32(np.around(a['ratio65f'] * 10 ** 7))\n",
    "\n",
    "a['ratio72'] = np.int32(np.around(a['ratio72f'] * 10 ** 7))\n",
    "a['ratio73'] = np.int32(np.around(a['ratio73f'] * 10 ** 7))\n",
    "a['ratio74'] = np.int32(np.around(a['ratio74f'] * 10 ** 7))\n",
    "a['ratio75'] = np.int32(np.around(a['ratio75f'] * 10 ** 7))\n",
    "a['ratio76'] = np.int32(np.around(a['ratio76f'] * 10 ** 7))\n",
    "\n",
    "a['ratio82'] = np.int32(np.around(a['ratio82f'] * 10 ** 7))\n",
    "a['ratio83'] = np.int32(np.around(a['ratio83f'] * 10 ** 7))\n",
    "a['ratio84'] = np.int32(np.around(a['ratio84f'] * 10 ** 7))\n",
    "a['ratio85'] = np.int32(np.around(a['ratio85f'] * 10 ** 7))\n",
    "a['ratio86'] = np.int32(np.around(a['ratio86f'] * 10 ** 7))\n",
    "a['ratio87'] = np.int32(np.around(a['ratio87f'] * 10 ** 7))\n",
    "\n",
    "a['ratio92'] = np.int32(np.around(a['ratio92f'] * 10 ** 7))\n",
    "a['ratio93'] = np.int32(np.around(a['ratio93f'] * 10 ** 7))\n",
    "a['ratio94'] = np.int32(np.around(a['ratio94f'] * 10 ** 7))\n",
    "a['ratio95'] = np.int32(np.around(a['ratio95f'] * 10 ** 7))\n",
    "a['ratio96'] = np.int32(np.around(a['ratio96f'] * 10 ** 7))\n",
    "a['ratio97'] = np.int32(np.around(a['ratio97f'] * 10 ** 7))\n",
    "a['ratio98'] = np.int32(np.around(a['ratio98f'] * 10 ** 7))\n",
    "\n",
    "a['ratio102'] = np.int32(np.around(a['ratio102f'] * 10 ** 7))\n",
    "a['ratio103'] = np.int32(np.around(a['ratio103f'] * 10 ** 7))\n",
    "a['ratio104'] = np.int32(np.around(a['ratio104f'] * 10 ** 7))\n",
    "a['ratio105'] = np.int32(np.around(a['ratio105f'] * 10 ** 7))\n",
    "a['ratio106'] = np.int32(np.around(a['ratio106f'] * 10 ** 7))\n",
    "a['ratio107'] = np.int32(np.around(a['ratio107f'] * 10 ** 7))\n",
    "a['ratio108'] = np.int32(np.around(a['ratio108f'] * 10 ** 7))\n",
    "a['ratio109'] = np.int32(np.around(a['ratio109f'] * 10 ** 7))\n",
    "\n",
    "\n",
    "# calculate the vegetation indices\n",
    "\n",
    "a['GSAVIf'] = ((nir-green)/(nir+green+0.5))*(1.5)\n",
    "a['GSAVI'] = np.int32(np.around(a['GSAVIf'] * 10 ** 7))\n",
    "\n",
    "\n",
    "a['GNDVIf'] = (nir-green)/(nir+green)\n",
    "a['GNDVI'] = np.int32(np.around(a['GNDVIf'] * 10 ** 7))\n",
    "\n",
    "\n",
    "a['CVIf'] = (nir/green)*(red/green)\n",
    "a['CVI'] = np.int32(np.around(a['CVIf'] * 10 ** 7))\n",
    "\n",
    "\n",
    "a['NDGIf'] = (green-red)/(green+red)\n",
    "a['NDGI'] = np.int32(np.around(a['NDGIf'] * 10 ** 7))\n",
    "\n",
    "\n",
    "a['RIf'] = (red-green)/(red+green)\n",
    "a['RI'] = np.int32(np.around(a['RIf'] * 10 ** 7))\n",
    "\n",
    "\n",
    "a['NBRf'] = (nir-swir2)/(nir+swir2)\n",
    "a['NBR'] = np.int32(np.around(a['NBRf'] * 10 ** 7))\n",
    "\n",
    "\n",
    "a['NDIIf'] = (nir-swir1)/(nir+swir1)\n",
    "a['NDII'] = np.int32(np.around(a['NDIIf'] * 10 ** 7))\n",
    "\n",
    "\n",
    "a['GDVIf'] = (nir-green)\n",
    "a['GDVI'] = np.int32(np.around(a['GDVIf'] * 10 ** 7))\n",
    "\n",
    "\n",
    "a['DVIf'] = (nir-red)\n",
    "a['DVI'] = np.int32(np.around(a['DVIf'] * 10 ** 7))\n",
    "\n",
    "\n",
    "a['SAVIf'] = ((nir-red)/(nir+red+0.5))*(1+0.5)\n",
    "a['SAVI'] = np.int32(np.around(a['SAVIf'] * 10 ** 7))\n",
    "\n",
    "\n",
    "a['NDVIf'] = (nir-red)/(nir+red)\n",
    "a['NDVI'] = np.int32(np.around(a['NDVIf'] * 10 ** 7))\n",
    "\n",
    "\n",
    "a['MSRf'] = (((nir/red)-1)/((np.sqrt(nir/red))+1))\n",
    "a['MSR'] = np.int32(np.around(a['MSRf'] * 10 ** 7))\n",
    "\n",
    "\n",
    "a['MSAVIf'] = (((2 * nir) + 1) - np.sqrt((np.power(((2 * nir) +1),2)) - (8 * (nir - red))))/2\n",
    "a['MSAVI'] = np.int32(np.around(a['MSAVIf'] * 10 ** 7))\n",
    "\n",
    "# Addition Variables For Sentinel 2\n",
    "\n",
    "a['CIgreenf'] = (rededge3/green)-1\n",
    "a['CIgreen'] = np.int32(np.around(a['CIgreenf'] * 10 ** 7))\n",
    "\n",
    "\n",
    "a['NDRE1f'] = ((rededge2-rededge1)/(rededge2+rededge1))\n",
    "a['NDRE1'] = np.int32(np.around(a['NDRE1f'] * 10 ** 7))\n",
    "\n",
    "\n",
    "a['NDRE2f'] = ((rededge3-rededge1)/(rededge3+rededge1))\n",
    "a['NDRE2'] = np.int32(np.around(a['NDRE2f'] * 10 ** 7))\n",
    "\n",
    "\n",
    "a['CIrededgef'] = (rededge3/rededge1)-1\n",
    "a['CIrededge'] = np.int32(np.around(a['CIrededgef'] * 10 ** 7))\n",
    "\n",
    "\n",
    "# please be notified that you cannot calculate the square root of a negative number;\n",
    "# when (nir - red) index used by 'MSAVI' might return a negative number;\n",
    "# the system will return a runtime error: \"RuntimeWarning: invalid value encountered in sqrt\";\n",
    "# just ignore the runtime error and proceed as normal, this script will delete the wired number at the end.\n",
    "\n",
    "# print the column of 'a'\n",
    "\n",
    "print (list (a))\n",
    "print (a.shape)"
   ]
  },
  {
   "cell_type": "markdown",
   "metadata": {},
   "source": [
    "\n",
    "Step 5. Rename output variables to dentify the correct season. 'a' - annual composite, then print the columns of dbi_a.\n"
   ]
  },
  {
   "cell_type": "code",
   "execution_count": 6,
   "metadata": {},
   "outputs": [
    {
     "name": "stdout",
     "output_type": "stream",
     "text": [
      "['site', 'class', 'psB2a', 'psB3a', 'psB4a', 'psB5a', 'psB6a', 'psB7a', 'psB8a', 'psB9a', 'psB10a', 'ratio32a', 'ratio42a', 'ratio43a', 'ratio52a', 'ratio53a', 'ratio54a', 'ratio62a', 'ratio63a', 'ratio64a', 'ratio65a', 'ratio72a', 'ratio73a', 'ratio74a', 'ratio75a', 'ratio76a', 'ratio82a', 'ratio83a', 'ratio84a', 'ratio85a', 'ratio86a', 'ratio87a', 'ratio92a', 'ratio93a', 'ratio94a', 'ratio95a', 'ratio96a', 'ratio97a', 'ratio98a', 'ratio102a', 'ratio103a', 'ratio104a', 'ratio105a', 'ratio106a', 'ratio107a', 'ratio108a', 'ratio109a', 'GSAVIa', 'GNDVIa', 'CVIa', 'NDGIa', 'RIa', 'NBRa', 'NDIIa', 'GDVIa', 'DVIa', 'SAVIa', 'NDVIa', 'MSRa', 'MSAVIa', 'CIgreena', 'NDRE1a', 'NDRE2a', 'CIrededgea']\n",
      "(3986, 64)\n"
     ]
    }
   ],
   "source": [
    "dbi_a = a[['site', 'class', 'psB2', 'psB3', 'psB4', 'psB5', 'psB6', 'psB7', 'psB8', 'psB9', 'psB10',\n",
    "           'ratio32', 'ratio42', 'ratio43', 'ratio52', 'ratio53', 'ratio54', \n",
    "           'ratio62', 'ratio63', 'ratio64', 'ratio65', \n",
    "           'ratio72', 'ratio73', 'ratio74', 'ratio75', 'ratio76', \n",
    "           'ratio82', 'ratio83', 'ratio84', 'ratio85', 'ratio86', 'ratio87', \n",
    "           'ratio92', 'ratio93', 'ratio94', 'ratio95', 'ratio96', 'ratio97', 'ratio98', \n",
    "           'ratio102', 'ratio103', 'ratio104', 'ratio105', 'ratio106', 'ratio107', 'ratio108', 'ratio109', \n",
    "           'GSAVI', 'GNDVI', 'CVI', 'NDGI', 'RI', 'NBR', 'NDII', 'GDVI', 'DVI', 'SAVI', 'NDVI', 'MSR', 'MSAVI', \n",
    "           'CIgreen', 'NDRE1', 'NDRE2', 'CIrededge']]\n",
    "\n",
    "dbi_a.columns = ['site', 'class', 'psB2a', 'psB3a', 'psB4a', 'psB5a', 'psB6a', 'psB7a', 'psB8a', 'psB9a', 'psB10a',\n",
    "           'ratio32a', 'ratio42a', 'ratio43a', 'ratio52a', 'ratio53a', 'ratio54a', \n",
    "           'ratio62a', 'ratio63a', 'ratio64a', 'ratio65a', \n",
    "           'ratio72a', 'ratio73a', 'ratio74a', 'ratio75a', 'ratio76a', \n",
    "           'ratio82a', 'ratio83a', 'ratio84a', 'ratio85a', 'ratio86a', 'ratio87a', \n",
    "           'ratio92a', 'ratio93a', 'ratio94a', 'ratio95a', 'ratio96a', 'ratio97a', 'ratio98a', \n",
    "           'ratio102a', 'ratio103a', 'ratio104a', 'ratio105a', 'ratio106a', 'ratio107a', 'ratio108a', 'ratio109a', \n",
    "           'GSAVIa', 'GNDVIa', 'CVIa', 'NDGIa', 'RIa', 'NBRa', 'NDIIa', 'GDVIa', 'DVIa', 'SAVIa', 'NDVIa', 'MSRa', 'MSAVIa', \n",
    "           'CIgreena', 'NDRE1a', 'NDRE2a', 'CIrededgea']\n",
    "\n",
    "print(list(dbi_a))\n",
    "print(dbi_a.shape)"
   ]
  },
  {
   "cell_type": "markdown",
   "metadata": {},
   "source": [
    "\n",
    "Step 6. Read in the zonal stats results of dry season image\n"
   ]
  },
  {
   "cell_type": "code",
   "execution_count": 7,
   "metadata": {},
   "outputs": [
    {
     "name": "stdout",
     "output_type": "stream",
     "text": [
      "['Unnamed: 0', 'site', 'class', 'b1', 'b2', 'b3', 'b4', 'b5', 'b6', 'b7', 'b8', 'b9', 'b10']\n",
      "(3989, 13)\n"
     ]
    }
   ],
   "source": [
    "dryseasondataframe = pd.read_csv(\"s2_dry_point_stats.csv\", header=0)\n",
    "print (list(dryseasondataframe))\n",
    "print (dryseasondataframe.shape)"
   ]
  },
  {
   "cell_type": "markdown",
   "metadata": {},
   "source": [
    "\n",
    "Step 7. Select out each band value which represents the single pixel value, then rename the column of df by createing a new dataframe 'd'\n"
   ]
  },
  {
   "cell_type": "code",
   "execution_count": 8,
   "metadata": {},
   "outputs": [
    {
     "name": "stdout",
     "output_type": "stream",
     "text": [
      "['site', 'psB2', 'psB3', 'psB4', 'psB5', 'psB6', 'psB7', 'psB8', 'psB9', 'psB10']\n",
      "(3989, 10)\n"
     ]
    }
   ],
   "source": [
    "dd = dryseasondataframe[['site', 'b2', 'b3', 'b4', 'b5', 'b6', 'b7', 'b8', 'b9', 'b10']]\n",
    "dd.columns = ['site', 'psB2', 'psB3', 'psB4', 'psB5', 'psB6', 'psB7', 'psB8', 'psB9', 'psB10']\n",
    "print (list (dd))\n",
    "print (dd.shape)"
   ]
  },
  {
   "cell_type": "markdown",
   "metadata": {},
   "source": [
    "\n",
    "Step 8. Define indices\n"
   ]
  },
  {
   "cell_type": "code",
   "execution_count": 9,
   "metadata": {},
   "outputs": [
    {
     "name": "stdout",
     "output_type": "stream",
     "text": [
      "['site', 'psB2', 'psB3', 'psB4', 'psB5', 'psB6', 'psB7', 'psB8', 'psB9', 'psB10', 'ratio32f', 'ratio42f', 'ratio43f', 'ratio52f', 'ratio53f', 'ratio54f', 'ratio62f', 'ratio63f', 'ratio64f', 'ratio65f', 'ratio72f', 'ratio73f', 'ratio74f', 'ratio75f', 'ratio76f', 'ratio82f', 'ratio83f', 'ratio84f', 'ratio85f', 'ratio86f', 'ratio87f', 'ratio92f', 'ratio93f', 'ratio94f', 'ratio95f', 'ratio96f', 'ratio97f', 'ratio98f', 'ratio102f', 'ratio103f', 'ratio104f', 'ratio105f', 'ratio106f', 'ratio107f', 'ratio108f', 'ratio109f', 'ratio32', 'ratio42', 'ratio43', 'ratio52', 'ratio53', 'ratio54', 'ratio62', 'ratio63', 'ratio64', 'ratio65', 'ratio72', 'ratio73', 'ratio74', 'ratio75', 'ratio76', 'ratio82', 'ratio83', 'ratio84', 'ratio85', 'ratio86', 'ratio87', 'ratio92', 'ratio93', 'ratio94', 'ratio95', 'ratio96', 'ratio97', 'ratio98', 'ratio102', 'ratio103', 'ratio104', 'ratio105', 'ratio106', 'ratio107', 'ratio108', 'ratio109', 'GSAVIf', 'GSAVI', 'GNDVIf', 'GNDVI', 'CVIf', 'CVI', 'NDGIf', 'NDGI', 'RIf', 'RI', 'NBRf', 'NBR', 'NDIIf', 'NDII', 'GDVIf', 'GDVI', 'DVIf', 'DVI', 'SAVIf', 'SAVI', 'NDVIf', 'NDVI', 'MSRf', 'MSR', 'MSAVIf', 'MSAVI', 'CIgreenf', 'CIgreen', 'CIrededgef', 'CIrededge', 'NDRE1f', 'NDRE1', 'NDRE2f', 'NDRE2']\n",
      "(3964, 116)\n"
     ]
    }
   ],
   "source": [
    "# remove invalid value\n",
    "\n",
    "jDd = dd.replace([np.inf, -np.inf], np.nan).copy()\n",
    "d = jDd.dropna()\n",
    "\n",
    "# or use np.seterr(divide='ignore', invalid='ignore') to ignore the warning. Will need to trail this in the next version.\n",
    "\n",
    "# converts interger stage code dbg surface reflectance data for landsat 5 & 7 \n",
    "# to floating point for analysis of the vegetation index\n",
    "\n",
    "green = ((d['psB2'].astype('int16')*0.0001)+0.0)\n",
    "red = ((d['psB3'].astype('int16')*0.0001)+0.0)\n",
    "nir = ((d['psB4'].astype('int16')*0.0001)+0.0)\n",
    "rededge1 = ((d['psB5'].astype('int16')*0.0001)+0.0)\n",
    "rededge2 = ((d['psB6'].astype('int16')*0.0001)+0.0)\n",
    "rededge3 = ((d['psB7'].astype('int16')*0.0001)+0.0)\n",
    "narrownir = ((d['psB8'].astype('int16')*0.0001)+0.0)\n",
    "swir1 = ((d['psB9'].astype('int16')*0.0001)+0.0)\n",
    "swir2 = ((d['psB10'].astype('int16')*0.0001)+0.0)\n",
    "\n",
    "# calculate the band ratios\n",
    "\n",
    "d['ratio32f'] = (d['psB3'] / d['psB2'])\n",
    "\n",
    "d['ratio42f'] = (d['psB4'] / d['psB2'])\n",
    "d['ratio43f'] = (d['psB4'] / d['psB3'])\n",
    "\n",
    "d['ratio52f'] = (d['psB5'] / d['psB2'])\n",
    "d['ratio53f'] = (d['psB5'] / d['psB3'])\n",
    "d['ratio54f'] = (d['psB5'] / d['psB4'])\n",
    "\n",
    "d['ratio62f'] = (d['psB6'] / d['psB2'])\n",
    "d['ratio63f'] = (d['psB6'] / d['psB3'])\n",
    "d['ratio64f'] = (d['psB6'] / d['psB4'])\n",
    "d['ratio65f'] = (d['psB6'] / d['psB5'])\n",
    "\n",
    "d['ratio72f'] = (d['psB7'] / d['psB2'])\n",
    "d['ratio73f'] = (d['psB7'] / d['psB3'])\n",
    "d['ratio74f'] = (d['psB7'] / d['psB4'])\n",
    "d['ratio75f'] = (d['psB7'] / d['psB5'])\n",
    "d['ratio76f'] = (d['psB7'] / d['psB6'])\n",
    "\n",
    "d['ratio82f'] = (d['psB8'] / d['psB2'])\n",
    "d['ratio83f'] = (d['psB8'] / d['psB3'])\n",
    "d['ratio84f'] = (d['psB8'] / d['psB4'])\n",
    "d['ratio85f'] = (d['psB8'] / d['psB5'])\n",
    "d['ratio86f'] = (d['psB8'] / d['psB6'])\n",
    "d['ratio87f'] = (d['psB8'] / d['psB7'])\n",
    "\n",
    "d['ratio92f'] = (d['psB9'] / d['psB2'])\n",
    "d['ratio93f'] = (d['psB9'] / d['psB3'])\n",
    "d['ratio94f'] = (d['psB9'] / d['psB4'])\n",
    "d['ratio95f'] = (d['psB9'] / d['psB5'])\n",
    "d['ratio96f'] = (d['psB9'] / d['psB6'])\n",
    "d['ratio97f'] = (d['psB9'] / d['psB7'])\n",
    "d['ratio98f'] = (d['psB9'] / d['psB8'])\n",
    "\n",
    "d['ratio102f'] = (d['psB10'] / d['psB2'])\n",
    "d['ratio103f'] = (d['psB10'] / d['psB3'])\n",
    "d['ratio104f'] = (d['psB10'] / d['psB4'])\n",
    "d['ratio105f'] = (d['psB10'] / d['psB5'])\n",
    "d['ratio106f'] = (d['psB10'] / d['psB6'])\n",
    "d['ratio107f'] = (d['psB10'] / d['psB7'])\n",
    "d['ratio108f'] = (d['psB10'] / d['psB8'])\n",
    "d['ratio109f'] = (d['psB10'] / d['psB9'])\n",
    "\n",
    "# calculate the band ratios and convert them to int32 bit at 7 decimal places\n",
    "\n",
    "d['ratio32'] = np.int32(np.around(d['ratio32f'] * 10 ** 7))\n",
    "\n",
    "d['ratio42'] = np.int32(np.around(d['ratio42f'] * 10 ** 7))\n",
    "d['ratio43'] = np.int32(np.around(d['ratio43f'] * 10 ** 7))\n",
    "\n",
    "d['ratio52'] = np.int32(np.around(d['ratio52f'] * 10 ** 7))\n",
    "d['ratio53'] = np.int32(np.around(d['ratio53f'] * 10 ** 7))\n",
    "d['ratio54'] = np.int32(np.around(d['ratio54f'] * 10 ** 7))\n",
    "\n",
    "d['ratio62'] = np.int32(np.around(d['ratio62f'] * 10 ** 7))\n",
    "d['ratio63'] = np.int32(np.around(d['ratio63f'] * 10 ** 7))\n",
    "d['ratio64'] = np.int32(np.around(d['ratio64f'] * 10 ** 7))\n",
    "d['ratio65'] = np.int32(np.around(d['ratio65f'] * 10 ** 7))\n",
    "\n",
    "d['ratio72'] = np.int32(np.around(d['ratio72f'] * 10 ** 7))\n",
    "d['ratio73'] = np.int32(np.around(d['ratio73f'] * 10 ** 7))\n",
    "d['ratio74'] = np.int32(np.around(d['ratio74f'] * 10 ** 7))\n",
    "d['ratio75'] = np.int32(np.around(d['ratio75f'] * 10 ** 7))\n",
    "d['ratio76'] = np.int32(np.around(d['ratio76f'] * 10 ** 7))\n",
    "\n",
    "d['ratio82'] = np.int32(np.around(d['ratio82f'] * 10 ** 7))\n",
    "d['ratio83'] = np.int32(np.around(d['ratio83f'] * 10 ** 7))\n",
    "d['ratio84'] = np.int32(np.around(d['ratio84f'] * 10 ** 7))\n",
    "d['ratio85'] = np.int32(np.around(d['ratio85f'] * 10 ** 7))\n",
    "d['ratio86'] = np.int32(np.around(d['ratio86f'] * 10 ** 7))\n",
    "d['ratio87'] = np.int32(np.around(d['ratio87f'] * 10 ** 7))\n",
    "\n",
    "d['ratio92'] = np.int32(np.around(d['ratio92f'] * 10 ** 7))\n",
    "d['ratio93'] = np.int32(np.around(d['ratio93f'] * 10 ** 7))\n",
    "d['ratio94'] = np.int32(np.around(d['ratio94f'] * 10 ** 7))\n",
    "d['ratio95'] = np.int32(np.around(d['ratio95f'] * 10 ** 7))\n",
    "d['ratio96'] = np.int32(np.around(d['ratio96f'] * 10 ** 7))\n",
    "d['ratio97'] = np.int32(np.around(d['ratio97f'] * 10 ** 7))\n",
    "d['ratio98'] = np.int32(np.around(d['ratio98f'] * 10 ** 7))\n",
    "\n",
    "d['ratio102'] = np.int32(np.around(d['ratio102f'] * 10 ** 7))\n",
    "d['ratio103'] = np.int32(np.around(d['ratio103f'] * 10 ** 7))\n",
    "d['ratio104'] = np.int32(np.around(d['ratio104f'] * 10 ** 7))\n",
    "d['ratio105'] = np.int32(np.around(d['ratio105f'] * 10 ** 7))\n",
    "d['ratio106'] = np.int32(np.around(d['ratio106f'] * 10 ** 7))\n",
    "d['ratio107'] = np.int32(np.around(d['ratio107f'] * 10 ** 7))\n",
    "d['ratio108'] = np.int32(np.around(d['ratio108f'] * 10 ** 7))\n",
    "d['ratio109'] = np.int32(np.around(d['ratio109f'] * 10 ** 7))\n",
    "\n",
    "\n",
    "# calculate the vegetation indices\n",
    "\n",
    "d['GSAVIf'] = ((nir-green)/(nir+green+0.5))*(1.5)\n",
    "d['GSAVI'] = np.int32(np.around(d['GSAVIf'] * 10 ** 7))\n",
    "\n",
    "\n",
    "d['GNDVIf'] = (nir-green)/(nir+green)\n",
    "d['GNDVI'] = np.int32(np.around(d['GNDVIf'] * 10 ** 7))\n",
    "\n",
    "\n",
    "d['CVIf'] = (nir/green)*(red/green)\n",
    "d['CVI'] = np.int32(np.around(d['CVIf'] * 10 ** 7))\n",
    "\n",
    "\n",
    "d['NDGIf'] = (green-red)/(green+red)\n",
    "d['NDGI'] = np.int32(np.around(d['NDGIf'] * 10 ** 7))\n",
    "\n",
    "\n",
    "d['RIf'] = (red-green)/(red+green)\n",
    "d['RI'] = np.int32(np.around(d['RIf'] * 10 ** 7))\n",
    "\n",
    "\n",
    "d['NBRf'] = (nir-swir2)/(nir+swir2)\n",
    "d['NBR'] = np.int32(np.around(d['NBRf'] * 10 ** 7))\n",
    "\n",
    "\n",
    "d['NDIIf'] = (nir-swir1)/(nir+swir1)\n",
    "d['NDII'] = np.int32(np.around(d['NDIIf'] * 10 ** 7))\n",
    "\n",
    "\n",
    "d['GDVIf'] = (nir-green)\n",
    "d['GDVI'] = np.int32(np.around(d['GDVIf'] * 10 ** 7))\n",
    "\n",
    "\n",
    "d['DVIf'] = (nir-red)\n",
    "d['DVI'] = np.int32(np.around(d['DVIf'] * 10 ** 7))\n",
    "\n",
    "\n",
    "d['SAVIf'] = ((nir-red)/(nir+red+0.5))*(1+0.5)\n",
    "d['SAVI'] = np.int32(np.around(d['SAVIf'] * 10 ** 7))\n",
    "\n",
    "\n",
    "d['NDVIf'] = (nir-red)/(nir+red)\n",
    "d['NDVI'] = np.int32(np.around(d['NDVIf'] * 10 ** 7))\n",
    "\n",
    "\n",
    "d['MSRf'] = (((nir/red)-1)/((np.sqrt(nir/red))+1))\n",
    "d['MSR'] = np.int32(np.around(d['MSRf'] * 10 ** 7))\n",
    "\n",
    "\n",
    "d['MSAVIf'] = (((2 * nir) + 1) - np.sqrt((np.power(((2 * nir) +1),2)) - (8 * (nir - red))))/2\n",
    "d['MSAVI'] = np.int32(np.around(d['MSAVIf'] * 10 ** 7))\n",
    "\n",
    "#d['DBSIf'] = (((swir1-green)/(swir1+green))-((nir-red)/(nir+red)))\n",
    "#d['DBSI'] = np.int32(np.around(d['DBSIf'] * 10 ** 7))\n",
    "\n",
    "# Addition Variables For Sentinel 2\n",
    "\n",
    "d['CIgreenf'] = (rededge3/green)-1\n",
    "d['CIgreen'] = np.int32(np.around(d['CIgreenf'] * 10 ** 7))\n",
    "\n",
    "d['CIrededgef'] = (rededge3/rededge1)-1\n",
    "d['CIrededge'] = np.int32(np.around(d['CIrededgef'] * 10 ** 7))\n",
    "\n",
    "d['NDRE1f'] = ((rededge2-rededge1)/(rededge2+rededge1))\n",
    "d['NDRE1'] = np.int32(np.around(d['NDRE1f'] * 10 ** 7))\n",
    "\n",
    "d['NDRE2f'] = ((rededge3-rededge1)/(rededge3+rededge1))\n",
    "d['NDRE2'] = np.int32(np.around(d['NDRE2f'] * 10 ** 7))\n",
    "\n",
    "\n",
    "# please be notified that you cannot calculate the square root of a negative number;\n",
    "# when (nir - red) index used by 'MSAVI' might return a negative number;\n",
    "# the system will return a runtime error: \"RuntimeWarning: invalid value encountered in sqrt\";\n",
    "# just ignore the runtime error and proceed as normal, this script will delete the wired number at the end.\n",
    "\n",
    "\n",
    "# print the column of 'd'\n",
    "\n",
    "print (list (d))\n",
    "print (d.shape)"
   ]
  },
  {
   "cell_type": "markdown",
   "metadata": {},
   "source": [
    "\n",
    "Step 9. Rename output variables to dentify the correct season. 'a' - annual composite, then print the columns of dbi_a.\n"
   ]
  },
  {
   "cell_type": "code",
   "execution_count": 10,
   "metadata": {},
   "outputs": [
    {
     "name": "stdout",
     "output_type": "stream",
     "text": [
      "['site', 'psB2d', 'psB3d', 'psB4d', 'psB5d', 'psB6d', 'psB7d', 'psB8d', 'psB9d', 'psB10d', 'ratio32d', 'ratio42d', 'ratio43d', 'ratio52d', 'ratio53d', 'ratio54d', 'ratio62d', 'ratio63d', 'ratio64d', 'ratio65d', 'ratio72d', 'ratio73d', 'ratio74d', 'ratio75d', 'ratio76d', 'ratio82d', 'ratio83d', 'ratio84d', 'ratio85d', 'ratio86d', 'ratio87d', 'ratio92d', 'ratio93d', 'ratio94d', 'ratio95d', 'ratio96d', 'ratio97d', 'ratio98d', 'ratio102d', 'ratio103d', 'ratio104d', 'ratio105d', 'ratio106d', 'ratio107d', 'ratio108d', 'ratio109d', 'GSAVId', 'GNDVId', 'CVId', 'NDGId', 'RId', 'NBRd', 'NDIId', 'GDVId', 'DVId', 'SAVId', 'NDVId', 'MSRd', 'MSAVId', 'CIgreend', 'CIrededged', 'NDRE1d', 'NDRE2d']\n",
      "(3964, 63)\n"
     ]
    }
   ],
   "source": [
    "dbi_d = d[['site', 'psB2', 'psB3', 'psB4', 'psB5', 'psB6', 'psB7', 'psB8', 'psB9', 'psB10',\n",
    "           'ratio32', 'ratio42', 'ratio43', 'ratio52', 'ratio53', 'ratio54', \n",
    "           'ratio62', 'ratio63', 'ratio64', 'ratio65', \n",
    "           'ratio72', 'ratio73', 'ratio74', 'ratio75', 'ratio76', \n",
    "           'ratio82', 'ratio83', 'ratio84', 'ratio85', 'ratio86', 'ratio87', \n",
    "           'ratio92', 'ratio93', 'ratio94', 'ratio95', 'ratio96', 'ratio97', 'ratio98', \n",
    "           'ratio102', 'ratio103', 'ratio104', 'ratio105', 'ratio106', 'ratio107', 'ratio108', 'ratio109', \n",
    "           'GSAVI', 'GNDVI', 'CVI', 'NDGI', 'RI', 'NBR', 'NDII', 'GDVI', 'DVI', 'SAVI', 'NDVI', 'MSR', 'MSAVI', \n",
    "           'CIgreen', 'CIrededge', 'NDRE1', 'NDRE2']]\n",
    "\n",
    "dbi_d.columns = ['site', 'psB2d', 'psB3d', 'psB4d', 'psB5d', 'psB6d', 'psB7d', 'psB8d', 'psB9d', 'psB10d',\n",
    "           'ratio32d', 'ratio42d', 'ratio43d', 'ratio52d', 'ratio53d', 'ratio54d', \n",
    "           'ratio62d', 'ratio63d', 'ratio64d', 'ratio65d', \n",
    "           'ratio72d', 'ratio73d', 'ratio74d', 'ratio75d', 'ratio76d', \n",
    "           'ratio82d', 'ratio83d', 'ratio84d', 'ratio85d', 'ratio86d', 'ratio87d', \n",
    "           'ratio92d', 'ratio93d', 'ratio94d', 'ratio95d', 'ratio96d', 'ratio97d', 'ratio98d', \n",
    "           'ratio102d', 'ratio103d', 'ratio104d', 'ratio105d', 'ratio106d', 'ratio107d', 'ratio108d', 'ratio109d', \n",
    "           'GSAVId', 'GNDVId', 'CVId', 'NDGId', 'RId', 'NBRd', 'NDIId', 'GDVId', 'DVId', 'SAVId', 'NDVId', 'MSRd', 'MSAVId', \n",
    "           'CIgreend',  'CIrededged', 'NDRE1d', 'NDRE2d']\n",
    "\n",
    "print(list(dbi_d))\n",
    "print(dbi_d.shape)"
   ]
  },
  {
   "cell_type": "markdown",
   "metadata": {},
   "source": [
    "Step 10. Read in the zonal stats results of structural formation image "
   ]
  },
  {
   "cell_type": "code",
   "execution_count": 11,
   "metadata": {
    "scrolled": true
   },
   "outputs": [
    {
     "name": "stdout",
     "output_type": "stream",
     "text": [
      "['Unnamed: 0', 'site', 'class', 'b1']\n",
      "(3989, 4)\n"
     ]
    }
   ],
   "source": [
    "tsdataframe = pd.read_csv(\"structure_formation_class.csv\", header=0)\n",
    "print (list(tsdataframe))\n",
    "print (tsdataframe.shape)"
   ]
  },
  {
   "cell_type": "code",
   "execution_count": 12,
   "metadata": {},
   "outputs": [
    {
     "name": "stdout",
     "output_type": "stream",
     "text": [
      "['Unnamed: 0', 'site', 'class', 'b1']\n"
     ]
    }
   ],
   "source": [
    "print (list(tsdataframe))"
   ]
  },
  {
   "cell_type": "markdown",
   "metadata": {},
   "source": [
    "\n",
    "Step 11. Select out each band value which represents the single pixel value, then rename the column of df by createing a new dataframe 'c'\n"
   ]
  },
  {
   "cell_type": "code",
   "execution_count": 13,
   "metadata": {},
   "outputs": [
    {
     "name": "stdout",
     "output_type": "stream",
     "text": [
      "['site', 'stc']\n",
      "(3989, 2)\n"
     ]
    }
   ],
   "source": [
    "c = tsdataframe[['site','b1']]\n",
    "c.columns = ['site', 'stc']\n",
    "print (list (c))\n",
    "print (c.shape)"
   ]
  },
  {
   "cell_type": "markdown",
   "metadata": {},
   "source": [
    "Step 12. Read in the zonal stats results of DEM"
   ]
  },
  {
   "cell_type": "code",
   "execution_count": 14,
   "metadata": {},
   "outputs": [
    {
     "name": "stdout",
     "output_type": "stream",
     "text": [
      "['Unnamed: 0', 'site', 'class', 'b1']\n",
      "(3989, 4)\n"
     ]
    }
   ],
   "source": [
    "demdataframe = pd.read_csv(\"DEM_SS_point_stats.csv\")\n",
    "print (list(demdataframe))\n",
    "print (demdataframe.shape)"
   ]
  },
  {
   "cell_type": "markdown",
   "metadata": {},
   "source": [
    "Step 13.  Select out each band value which represents the single pixel value, then rename the column of df by createing a new dataframe 'dem'"
   ]
  },
  {
   "cell_type": "code",
   "execution_count": 15,
   "metadata": {},
   "outputs": [
    {
     "name": "stdout",
     "output_type": "stream",
     "text": [
      "['site', 'DEM']\n",
      "(3989, 2)\n"
     ]
    }
   ],
   "source": [
    "dem = demdataframe[['site', 'b1']]\n",
    "dem.columns = ['site', 'DEM']\n",
    "print (list(dem))\n",
    "print (dem.shape)"
   ]
  },
  {
   "cell_type": "markdown",
   "metadata": {},
   "source": [
    "Step 14. Read in the zonal stats results of DTC"
   ]
  },
  {
   "cell_type": "code",
   "execution_count": 16,
   "metadata": {},
   "outputs": [
    {
     "name": "stdout",
     "output_type": "stream",
     "text": [
      "['Unnamed: 0', 'site', 'class', 'b1', 'b2', 'b3']\n",
      "(3989, 6)\n"
     ]
    }
   ],
   "source": [
    "dtcdataframe = pd.read_csv(\"tree_structure_point_stats.csv\")\n",
    "print (list(dtcdataframe))\n",
    "print (dtcdataframe.shape)"
   ]
  },
  {
   "cell_type": "markdown",
   "metadata": {},
   "source": [
    "Step 15.  Select out each band value which represents the single pixel value, then rename the column of df by createing a new dataframe 'dem'"
   ]
  },
  {
   "cell_type": "code",
   "execution_count": 17,
   "metadata": {},
   "outputs": [
    {
     "name": "stdout",
     "output_type": "stream",
     "text": [
      "['site', 'h99', 'hmc', 'hcv']\n",
      "(3989, 4)\n"
     ]
    }
   ],
   "source": [
    "dtc = dtcdataframe[['site', 'b1','b2','b3']]\n",
    "dtc.columns = ['site', 'h99','hmc','hcv']\n",
    "print (list(dtc))\n",
    "print (dtc.shape)"
   ]
  },
  {
   "cell_type": "markdown",
   "metadata": {},
   "source": [
    "Step 16. Join dataframe dbi_a, dbi_d, c, dem, dtc"
   ]
  },
  {
   "cell_type": "code",
   "execution_count": 18,
   "metadata": {},
   "outputs": [
    {
     "name": "stdout",
     "output_type": "stream",
     "text": [
      "(3986, 126)\n"
     ]
    }
   ],
   "source": [
    "dbi_a_join_dbi_d = pd.merge(dbi_a, dbi_d, how = 'outer', on = 'site')\n",
    "print(dbi_a_join_dbi_d.shape)"
   ]
  },
  {
   "cell_type": "code",
   "execution_count": 19,
   "metadata": {},
   "outputs": [
    {
     "name": "stdout",
     "output_type": "stream",
     "text": [
      "['site', 'class', 'psB2a', 'psB3a', 'psB4a', 'psB5a', 'psB6a', 'psB7a', 'psB8a', 'psB9a', 'psB10a', 'ratio32a', 'ratio42a', 'ratio43a', 'ratio52a', 'ratio53a', 'ratio54a', 'ratio62a', 'ratio63a', 'ratio64a', 'ratio65a', 'ratio72a', 'ratio73a', 'ratio74a', 'ratio75a', 'ratio76a', 'ratio82a', 'ratio83a', 'ratio84a', 'ratio85a', 'ratio86a', 'ratio87a', 'ratio92a', 'ratio93a', 'ratio94a', 'ratio95a', 'ratio96a', 'ratio97a', 'ratio98a', 'ratio102a', 'ratio103a', 'ratio104a', 'ratio105a', 'ratio106a', 'ratio107a', 'ratio108a', 'ratio109a', 'GSAVIa', 'GNDVIa', 'CVIa', 'NDGIa', 'RIa', 'NBRa', 'NDIIa', 'GDVIa', 'DVIa', 'SAVIa', 'NDVIa', 'MSRa', 'MSAVIa', 'CIgreena', 'NDRE1a', 'NDRE2a', 'CIrededgea', 'psB2d', 'psB3d', 'psB4d', 'psB5d', 'psB6d', 'psB7d', 'psB8d', 'psB9d', 'psB10d', 'ratio32d', 'ratio42d', 'ratio43d', 'ratio52d', 'ratio53d', 'ratio54d', 'ratio62d', 'ratio63d', 'ratio64d', 'ratio65d', 'ratio72d', 'ratio73d', 'ratio74d', 'ratio75d', 'ratio76d', 'ratio82d', 'ratio83d', 'ratio84d', 'ratio85d', 'ratio86d', 'ratio87d', 'ratio92d', 'ratio93d', 'ratio94d', 'ratio95d', 'ratio96d', 'ratio97d', 'ratio98d', 'ratio102d', 'ratio103d', 'ratio104d', 'ratio105d', 'ratio106d', 'ratio107d', 'ratio108d', 'ratio109d', 'GSAVId', 'GNDVId', 'CVId', 'NDGId', 'RId', 'NBRd', 'NDIId', 'GDVId', 'DVId', 'SAVId', 'NDVId', 'MSRd', 'MSAVId', 'CIgreend', 'CIrededged', 'NDRE1d', 'NDRE2d', 'stc']\n",
      "(3989, 127)\n"
     ]
    }
   ],
   "source": [
    "dbi_a_join_dbi_d_join_c = pd.merge(dbi_a_join_dbi_d, c, how = 'outer', on = 'site')\n",
    "print(list(dbi_a_join_dbi_d_join_c))\n",
    "print(dbi_a_join_dbi_d_join_c.shape)"
   ]
  },
  {
   "cell_type": "code",
   "execution_count": 20,
   "metadata": {},
   "outputs": [
    {
     "name": "stdout",
     "output_type": "stream",
     "text": [
      "['site', 'class', 'psB2a', 'psB3a', 'psB4a', 'psB5a', 'psB6a', 'psB7a', 'psB8a', 'psB9a', 'psB10a', 'ratio32a', 'ratio42a', 'ratio43a', 'ratio52a', 'ratio53a', 'ratio54a', 'ratio62a', 'ratio63a', 'ratio64a', 'ratio65a', 'ratio72a', 'ratio73a', 'ratio74a', 'ratio75a', 'ratio76a', 'ratio82a', 'ratio83a', 'ratio84a', 'ratio85a', 'ratio86a', 'ratio87a', 'ratio92a', 'ratio93a', 'ratio94a', 'ratio95a', 'ratio96a', 'ratio97a', 'ratio98a', 'ratio102a', 'ratio103a', 'ratio104a', 'ratio105a', 'ratio106a', 'ratio107a', 'ratio108a', 'ratio109a', 'GSAVIa', 'GNDVIa', 'CVIa', 'NDGIa', 'RIa', 'NBRa', 'NDIIa', 'GDVIa', 'DVIa', 'SAVIa', 'NDVIa', 'MSRa', 'MSAVIa', 'CIgreena', 'NDRE1a', 'NDRE2a', 'CIrededgea', 'psB2d', 'psB3d', 'psB4d', 'psB5d', 'psB6d', 'psB7d', 'psB8d', 'psB9d', 'psB10d', 'ratio32d', 'ratio42d', 'ratio43d', 'ratio52d', 'ratio53d', 'ratio54d', 'ratio62d', 'ratio63d', 'ratio64d', 'ratio65d', 'ratio72d', 'ratio73d', 'ratio74d', 'ratio75d', 'ratio76d', 'ratio82d', 'ratio83d', 'ratio84d', 'ratio85d', 'ratio86d', 'ratio87d', 'ratio92d', 'ratio93d', 'ratio94d', 'ratio95d', 'ratio96d', 'ratio97d', 'ratio98d', 'ratio102d', 'ratio103d', 'ratio104d', 'ratio105d', 'ratio106d', 'ratio107d', 'ratio108d', 'ratio109d', 'GSAVId', 'GNDVId', 'CVId', 'NDGId', 'RId', 'NBRd', 'NDIId', 'GDVId', 'DVId', 'SAVId', 'NDVId', 'MSRd', 'MSAVId', 'CIgreend', 'CIrededged', 'NDRE1d', 'NDRE2d', 'stc', 'DEM']\n",
      "(3989, 128)\n"
     ]
    }
   ],
   "source": [
    "dbi_a_join_dbi_d_join_c_join_dem = pd.merge(dbi_a_join_dbi_d_join_c, dem, how = 'outer', on = 'site')\n",
    "print(list(dbi_a_join_dbi_d_join_c_join_dem))\n",
    "print(dbi_a_join_dbi_d_join_c_join_dem.shape)"
   ]
  },
  {
   "cell_type": "code",
   "execution_count": 21,
   "metadata": {},
   "outputs": [
    {
     "name": "stdout",
     "output_type": "stream",
     "text": [
      "['site', 'class', 'psB2a', 'psB3a', 'psB4a', 'psB5a', 'psB6a', 'psB7a', 'psB8a', 'psB9a', 'psB10a', 'ratio32a', 'ratio42a', 'ratio43a', 'ratio52a', 'ratio53a', 'ratio54a', 'ratio62a', 'ratio63a', 'ratio64a', 'ratio65a', 'ratio72a', 'ratio73a', 'ratio74a', 'ratio75a', 'ratio76a', 'ratio82a', 'ratio83a', 'ratio84a', 'ratio85a', 'ratio86a', 'ratio87a', 'ratio92a', 'ratio93a', 'ratio94a', 'ratio95a', 'ratio96a', 'ratio97a', 'ratio98a', 'ratio102a', 'ratio103a', 'ratio104a', 'ratio105a', 'ratio106a', 'ratio107a', 'ratio108a', 'ratio109a', 'GSAVIa', 'GNDVIa', 'CVIa', 'NDGIa', 'RIa', 'NBRa', 'NDIIa', 'GDVIa', 'DVIa', 'SAVIa', 'NDVIa', 'MSRa', 'MSAVIa', 'CIgreena', 'NDRE1a', 'NDRE2a', 'CIrededgea', 'psB2d', 'psB3d', 'psB4d', 'psB5d', 'psB6d', 'psB7d', 'psB8d', 'psB9d', 'psB10d', 'ratio32d', 'ratio42d', 'ratio43d', 'ratio52d', 'ratio53d', 'ratio54d', 'ratio62d', 'ratio63d', 'ratio64d', 'ratio65d', 'ratio72d', 'ratio73d', 'ratio74d', 'ratio75d', 'ratio76d', 'ratio82d', 'ratio83d', 'ratio84d', 'ratio85d', 'ratio86d', 'ratio87d', 'ratio92d', 'ratio93d', 'ratio94d', 'ratio95d', 'ratio96d', 'ratio97d', 'ratio98d', 'ratio102d', 'ratio103d', 'ratio104d', 'ratio105d', 'ratio106d', 'ratio107d', 'ratio108d', 'ratio109d', 'GSAVId', 'GNDVId', 'CVId', 'NDGId', 'RId', 'NBRd', 'NDIId', 'GDVId', 'DVId', 'SAVId', 'NDVId', 'MSRd', 'MSAVId', 'CIgreend', 'CIrededged', 'NDRE1d', 'NDRE2d', 'stc', 'DEM', 'h99', 'hmc', 'hcv']\n",
      "(3989, 131)\n"
     ]
    }
   ],
   "source": [
    "dbi_a_join_dbi_d_join_c_join_dem_join_dtc = pd.merge(dbi_a_join_dbi_d_join_c_join_dem, dtc, how = 'outer', on = 'site')\n",
    "print(list(dbi_a_join_dbi_d_join_c_join_dem_join_dtc))\n",
    "print(dbi_a_join_dbi_d_join_c_join_dem_join_dtc.shape)"
   ]
  },
  {
   "cell_type": "markdown",
   "metadata": {},
   "source": [
    "Step 17. Replace infinity value with nan, then replace nan with 0, then export the final result"
   ]
  },
  {
   "cell_type": "code",
   "execution_count": 22,
   "metadata": {},
   "outputs": [
    {
     "name": "stdout",
     "output_type": "stream",
     "text": [
      "(3989, 131)\n",
      "(3989, 131)\n"
     ]
    }
   ],
   "source": [
    "tempresult = dbi_a_join_dbi_d_join_c_join_dem_join_dtc.replace([np.inf, -np.inf], np.nan).copy()\n",
    "#replace nan with 0\n",
    "cleanedresult = tempresult.replace([np.nan], 0).copy()\n",
    "clean = cleanedresult.dropna().copy()\n",
    "\n",
    "print(cleanedresult.shape)\n",
    "print(clean.shape)\n",
    "cleanedresult.to_csv('docs_limmen_class.csv')"
   ]
  },
  {
   "cell_type": "code",
   "execution_count": 23,
   "metadata": {},
   "outputs": [
    {
     "name": "stdout",
     "output_type": "stream",
     "text": [
      "['site', 'class', 'psB2a', 'psB3a', 'psB4a', 'psB5a', 'psB6a', 'psB7a', 'psB8a', 'psB9a', 'psB10a', 'ratio32a', 'ratio42a', 'ratio43a', 'ratio52a', 'ratio53a', 'ratio54a', 'ratio62a', 'ratio63a', 'ratio64a', 'ratio65a', 'ratio72a', 'ratio73a', 'ratio74a', 'ratio75a', 'ratio76a', 'ratio82a', 'ratio83a', 'ratio84a', 'ratio85a', 'ratio86a', 'ratio87a', 'ratio92a', 'ratio93a', 'ratio94a', 'ratio95a', 'ratio96a', 'ratio97a', 'ratio98a', 'ratio102a', 'ratio103a', 'ratio104a', 'ratio105a', 'ratio106a', 'ratio107a', 'ratio108a', 'ratio109a', 'GSAVIa', 'GNDVIa', 'CVIa', 'NDGIa', 'RIa', 'NBRa', 'NDIIa', 'GDVIa', 'DVIa', 'SAVIa', 'NDVIa', 'MSRa', 'MSAVIa', 'CIgreena', 'NDRE1a', 'NDRE2a', 'CIrededgea', 'psB2d', 'psB3d', 'psB4d', 'psB5d', 'psB6d', 'psB7d', 'psB8d', 'psB9d', 'psB10d', 'ratio32d', 'ratio42d', 'ratio43d', 'ratio52d', 'ratio53d', 'ratio54d', 'ratio62d', 'ratio63d', 'ratio64d', 'ratio65d', 'ratio72d', 'ratio73d', 'ratio74d', 'ratio75d', 'ratio76d', 'ratio82d', 'ratio83d', 'ratio84d', 'ratio85d', 'ratio86d', 'ratio87d', 'ratio92d', 'ratio93d', 'ratio94d', 'ratio95d', 'ratio96d', 'ratio97d', 'ratio98d', 'ratio102d', 'ratio103d', 'ratio104d', 'ratio105d', 'ratio106d', 'ratio107d', 'ratio108d', 'ratio109d', 'GSAVId', 'GNDVId', 'CVId', 'NDGId', 'RId', 'NBRd', 'NDIId', 'GDVId', 'DVId', 'SAVId', 'NDVId', 'MSRd', 'MSAVId', 'CIgreend', 'CIrededged', 'NDRE1d', 'NDRE2d', 'stc', 'DEM', 'h99', 'hmc', 'hcv']\n"
     ]
    }
   ],
   "source": [
    "print (list(cleanedresult))"
   ]
  },
  {
   "cell_type": "code",
   "execution_count": 24,
   "metadata": {},
   "outputs": [
    {
     "data": {
      "text/plain": [
       "array([25., 22., 21.,  3., 20.,  9., 23., 11., 13., 12.,  0.])"
      ]
     },
     "execution_count": 24,
     "metadata": {},
     "output_type": "execute_result"
    }
   ],
   "source": [
    "cleanedresult['class'].unique()"
   ]
  },
  {
   "cell_type": "code",
   "execution_count": 25,
   "metadata": {},
   "outputs": [],
   "source": [
    "zero = cleanedresult[(cleanedresult['class'] == 0.0)]"
   ]
  },
  {
   "cell_type": "code",
   "execution_count": 26,
   "metadata": {},
   "outputs": [
    {
     "data": {
      "text/html": [
       "<div>\n",
       "<style scoped>\n",
       "    .dataframe tbody tr th:only-of-type {\n",
       "        vertical-align: middle;\n",
       "    }\n",
       "\n",
       "    .dataframe tbody tr th {\n",
       "        vertical-align: top;\n",
       "    }\n",
       "\n",
       "    .dataframe thead th {\n",
       "        text-align: right;\n",
       "    }\n",
       "</style>\n",
       "<table border=\"1\" class=\"dataframe\">\n",
       "  <thead>\n",
       "    <tr style=\"text-align: right;\">\n",
       "      <th></th>\n",
       "      <th>site</th>\n",
       "      <th>class</th>\n",
       "      <th>psB2a</th>\n",
       "      <th>psB3a</th>\n",
       "      <th>psB4a</th>\n",
       "      <th>psB5a</th>\n",
       "      <th>psB6a</th>\n",
       "      <th>psB7a</th>\n",
       "      <th>psB8a</th>\n",
       "      <th>psB9a</th>\n",
       "      <th>...</th>\n",
       "      <th>MSAVId</th>\n",
       "      <th>CIgreend</th>\n",
       "      <th>CIrededged</th>\n",
       "      <th>NDRE1d</th>\n",
       "      <th>NDRE2d</th>\n",
       "      <th>stc</th>\n",
       "      <th>DEM</th>\n",
       "      <th>h99</th>\n",
       "      <th>hmc</th>\n",
       "      <th>hcv</th>\n",
       "    </tr>\n",
       "  </thead>\n",
       "  <tbody>\n",
       "    <tr>\n",
       "      <td>3986</td>\n",
       "      <td>496</td>\n",
       "      <td>0.0</td>\n",
       "      <td>0.0</td>\n",
       "      <td>0.0</td>\n",
       "      <td>0.0</td>\n",
       "      <td>0.0</td>\n",
       "      <td>0.0</td>\n",
       "      <td>0.0</td>\n",
       "      <td>0.0</td>\n",
       "      <td>0.0</td>\n",
       "      <td>...</td>\n",
       "      <td>0.0</td>\n",
       "      <td>0.0</td>\n",
       "      <td>0.0</td>\n",
       "      <td>0.0</td>\n",
       "      <td>0.0</td>\n",
       "      <td>12.0</td>\n",
       "      <td>285.106995</td>\n",
       "      <td>0.0</td>\n",
       "      <td>0.0</td>\n",
       "      <td>0.0</td>\n",
       "    </tr>\n",
       "    <tr>\n",
       "      <td>3987</td>\n",
       "      <td>497</td>\n",
       "      <td>0.0</td>\n",
       "      <td>0.0</td>\n",
       "      <td>0.0</td>\n",
       "      <td>0.0</td>\n",
       "      <td>0.0</td>\n",
       "      <td>0.0</td>\n",
       "      <td>0.0</td>\n",
       "      <td>0.0</td>\n",
       "      <td>0.0</td>\n",
       "      <td>...</td>\n",
       "      <td>0.0</td>\n",
       "      <td>0.0</td>\n",
       "      <td>0.0</td>\n",
       "      <td>0.0</td>\n",
       "      <td>0.0</td>\n",
       "      <td>4.0</td>\n",
       "      <td>280.279480</td>\n",
       "      <td>0.0</td>\n",
       "      <td>0.0</td>\n",
       "      <td>0.0</td>\n",
       "    </tr>\n",
       "    <tr>\n",
       "      <td>3988</td>\n",
       "      <td>1210</td>\n",
       "      <td>0.0</td>\n",
       "      <td>0.0</td>\n",
       "      <td>0.0</td>\n",
       "      <td>0.0</td>\n",
       "      <td>0.0</td>\n",
       "      <td>0.0</td>\n",
       "      <td>0.0</td>\n",
       "      <td>0.0</td>\n",
       "      <td>0.0</td>\n",
       "      <td>...</td>\n",
       "      <td>0.0</td>\n",
       "      <td>0.0</td>\n",
       "      <td>0.0</td>\n",
       "      <td>0.0</td>\n",
       "      <td>0.0</td>\n",
       "      <td>0.0</td>\n",
       "      <td>11.186049</td>\n",
       "      <td>0.0</td>\n",
       "      <td>0.0</td>\n",
       "      <td>0.0</td>\n",
       "    </tr>\n",
       "  </tbody>\n",
       "</table>\n",
       "<p>3 rows × 131 columns</p>\n",
       "</div>"
      ],
      "text/plain": [
       "      site  class  psB2a  psB3a  psB4a  psB5a  psB6a  psB7a  psB8a  psB9a  \\\n",
       "3986   496    0.0    0.0    0.0    0.0    0.0    0.0    0.0    0.0    0.0   \n",
       "3987   497    0.0    0.0    0.0    0.0    0.0    0.0    0.0    0.0    0.0   \n",
       "3988  1210    0.0    0.0    0.0    0.0    0.0    0.0    0.0    0.0    0.0   \n",
       "\n",
       "      ...  MSAVId  CIgreend  CIrededged  NDRE1d  NDRE2d   stc         DEM  \\\n",
       "3986  ...     0.0       0.0         0.0     0.0     0.0  12.0  285.106995   \n",
       "3987  ...     0.0       0.0         0.0     0.0     0.0   4.0  280.279480   \n",
       "3988  ...     0.0       0.0         0.0     0.0     0.0   0.0   11.186049   \n",
       "\n",
       "      h99  hmc  hcv  \n",
       "3986  0.0  0.0  0.0  \n",
       "3987  0.0  0.0  0.0  \n",
       "3988  0.0  0.0  0.0  \n",
       "\n",
       "[3 rows x 131 columns]"
      ]
     },
     "execution_count": 26,
     "metadata": {},
     "output_type": "execute_result"
    }
   ],
   "source": [
    "zero"
   ]
  },
  {
   "cell_type": "code",
   "execution_count": null,
   "metadata": {},
   "outputs": [],
   "source": []
  }
 ],
 "metadata": {
  "kernelspec": {
   "display_name": "Python 3",
   "language": "python",
   "name": "python3"
  },
  "language_info": {
   "codemirror_mode": {
    "name": "ipython",
    "version": 3
   },
   "file_extension": ".py",
   "mimetype": "text/x-python",
   "name": "python",
   "nbconvert_exporter": "python",
   "pygments_lexer": "ipython3",
   "version": "3.7.7"
  }
 },
 "nbformat": 4,
 "nbformat_minor": 2
}
