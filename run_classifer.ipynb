{
 "cells": [
  {
   "cell_type": "code",
   "execution_count": 1,
   "metadata": {},
   "outputs": [
    {
     "name": "stdout",
     "output_type": "stream",
     "text": [
      "usage: Sentinel_veg_map.py [-h] [--reffile_a REFFILE_A]\n",
      "                           [--reffile_d REFFILE_D] [--DEM DEM] [--stc STC]\n",
      "                           [--composite COMPOSITE] [--outfile OUTFILE]\n",
      "                           [--picklefile PICKLEFILE]\n",
      "\n",
      "optional arguments:\n",
      "  -h, --help            show this help message and exit\n",
      "  --reffile_a REFFILE_A\n",
      "                        Input the annual surface reflectance file\n",
      "  --reffile_d REFFILE_D\n",
      "                        Input the dry season surface reflectance file\n",
      "  --DEM DEM             Input the DEM file\n",
      "  --stc STC             Input the structural formation image\n",
      "  --composite COMPOSITE\n",
      "                        Input Tree Structure Composite\n",
      "  --outfile OUTFILE     Name of output file (default is chm of reffile)\n",
      "  --picklefile PICKLEFILE\n",
      "                        Input pickle file\n"
     ]
    }
   ],
   "source": [
    "%run Sentinel_veg_map.py -h"
   ]
  },
  {
   "cell_type": "code",
   "execution_count": 3,
   "metadata": {},
   "outputs": [],
   "source": [
    "%run Sentinel_veg_map.py --reffile_a D:\\test\\cvmsre_limmen_mos_m201801201812_abmm3.img \\\n",
    "    --reffile_d D:\\test\\cvmsre_limmen_mos_m201805201809_abmm3.img \\\n",
    "        --DEM D:\\test\\DEM_SS_WG84_clip.img \\\n",
    "            --stc D:\\test\\lztmre_nt_m201705201709_stcm3_uint8.img \\\n",
    "            --composite D:\\test\\cvmsre_nt_m201801201812_h99_mc_cv_m3.img \\\n",
    "                --outfile D:\\test\\test4.img \\\n",
    "                    --picklefile rfc_cpickle_20200212.p"
   ]
  }
 ],
 "metadata": {
  "kernelspec": {
   "display_name": "Python 3",
   "language": "python",
   "name": "python3"
  },
  "language_info": {
   "codemirror_mode": {
    "name": "ipython",
    "version": 3
   },
   "file_extension": ".py",
   "mimetype": "text/x-python",
   "name": "python",
   "nbconvert_exporter": "python",
   "pygments_lexer": "ipython3",
   "version": "3.7.4"
  }
 },
 "nbformat": 4,
 "nbformat_minor": 2
}
